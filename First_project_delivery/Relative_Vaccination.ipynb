{
 "cells": [
  {
   "cell_type": "markdown",
   "metadata": {},
   "source": [
    "# Relative Vaccinations (Absolute Vaccination/Population Size)\n",
    "\n",
    "Roshan Sathyanarayana Shenoy (414583)\n",
    "\n",
    "## Countries: \n",
    "\n",
    "* `Australia`\n",
    "* `USA`\n",
    "* `Italy`"
   ]
  },
  {
   "cell_type": "code",
   "execution_count": 103,
   "metadata": {},
   "outputs": [],
   "source": [
    "#Importing required libraries:\n",
    "import pandas as pd\n",
    "import requests\n",
    "import json\n",
    "import datetime as datetime\n",
    "import matplotlib.pyplot as plt"
   ]
  },
  {
   "cell_type": "code",
   "execution_count": 104,
   "metadata": {},
   "outputs": [],
   "source": [
    "#Setting limit to maximum rows displayed:\n",
    "pd.set_option('display.max_rows', 500)"
   ]
  },
  {
   "cell_type": "code",
   "execution_count": 105,
   "metadata": {},
   "outputs": [],
   "source": [
    "# Requesting the Covid Cases data from our world in data webiste as a json object:\n",
    "data_Vax=requests.get('https://github.com/owid/covid-19-data/raw/master/public/data/vaccinations/vaccinations.json')\n",
    "\n",
    "#Dumping all data from json into a variable:\n",
    "json_object_vax=json.loads(data_Vax.content)"
   ]
  },
  {
   "cell_type": "code",
   "execution_count": 106,
   "metadata": {},
   "outputs": [],
   "source": [
    "# create an empty dictionary\n",
    "dict_from_list = {}\n",
    "\n",
    "# for loop to convert list of dict\n",
    "# to dict of list\n",
    "for item in json_object_vax:\n",
    "\tname = item['country']\n",
    "\tdict_from_list[name] = item"
   ]
  },
  {
   "cell_type": "code",
   "execution_count": 107,
   "metadata": {},
   "outputs": [],
   "source": [
    "#Separating dictonary of Australia from list and adding it to new list:\n",
    "country_AUS=dict_from_list['Australia']\n",
    "\n",
    "#Separating the list that contains the data we need from the United Kingdom dictonary:\n",
    "country_AUS_data=country_AUS['data']"
   ]
  },
  {
   "cell_type": "code",
   "execution_count": 108,
   "metadata": {},
   "outputs": [],
   "source": [
    "#Creating an empty dictonary to get data(date, vaccination):\n",
    "dictionary_of_AUS_date_vax={}\n",
    "\n",
    "#Creating dictonary from the list:\n",
    "for item in country_AUS_data:\n",
    "\tname = item['date']\n",
    "\tdictionary_of_AUS_date_vax[name] = item"
   ]
  },
  {
   "cell_type": "code",
   "execution_count": 109,
   "metadata": {},
   "outputs": [],
   "source": [
    "#Creating an empty list:\n",
    "inter_list_AUS=[]\n",
    "\n",
    "#Adding all the keys from data dictonary to an empty list:\n",
    "for key in dictionary_of_AUS_date_vax:\n",
    "\tinter_list_AUS.append(dictionary_of_AUS_date_vax[key])"
   ]
  },
  {
   "cell_type": "code",
   "execution_count": 110,
   "metadata": {},
   "outputs": [
    {
     "data": {
      "text/plain": [
       "date                  object\n",
       "AUS_ratio_vax_pop    float64\n",
       "dtype: object"
      ]
     },
     "execution_count": 110,
     "metadata": {},
     "output_type": "execute_result"
    }
   ],
   "source": [
    "#Converting list to dataframe:\n",
    "pd_AUS_inter=pd.DataFrame(inter_list_AUS)\n",
    "\n",
    "#Renaming the label total_vaccinations column to 'France ratio vaccination:population' (data it holds while plotting)\n",
    "pd_AUS_inter = pd_AUS_inter.rename(columns={'total_vaccinations':'AUS_ratio_vax_pop'})\n",
    "\n",
    "#Setting the index of the dataframe to date:\n",
    "pd_AUS_inter.set_index('date')\n",
    "\n",
    "#Separating the data columns that we need for the plot (date, total_vaccinations):\n",
    "pd_AUS_fin= pd_AUS_inter.iloc[:, [0,1]]\n",
    "\n",
    "#Checking the data types of the final dataframe for France:\n",
    "pd_AUS_fin.dtypes"
   ]
  },
  {
   "cell_type": "markdown",
   "metadata": {},
   "source": [
    "Requesting data that contains population from another web-source so that the population value stays up-to-date:"
   ]
  },
  {
   "cell_type": "code",
   "execution_count": 111,
   "metadata": {},
   "outputs": [],
   "source": [
    "#Requesting the json containing the population data so as the population number would always stay up-to-date:\n",
    "data_cases=requests.get('https://covid.ourworldindata.org/data/owid-covid-data.json')\n",
    "\n",
    "#Loading the json object for extrating population data:\n",
    "json_object_cases=json.loads(data_cases.content)\n"
   ]
  },
  {
   "cell_type": "code",
   "execution_count": 112,
   "metadata": {},
   "outputs": [],
   "source": [
    "pop_AUS=json_object_cases['AUS']['population']"
   ]
  },
  {
   "cell_type": "code",
   "execution_count": 113,
   "metadata": {},
   "outputs": [
    {
     "name": "stderr",
     "output_type": "stream",
     "text": [
      "<ipython-input-113-be0dcf7ee746>:1: SettingWithCopyWarning: \n",
      "A value is trying to be set on a copy of a slice from a DataFrame.\n",
      "Try using .loc[row_indexer,col_indexer] = value instead\n",
      "\n",
      "See the caveats in the documentation: https://pandas.pydata.org/pandas-docs/stable/user_guide/indexing.html#returning-a-view-versus-a-copy\n",
      "  pd_AUS_fin['AUS_ratio_vax_pop']=pd_AUS_fin['AUS_ratio_vax_pop'].div(pop_AUS)\n"
     ]
    }
   ],
   "source": [
    "pd_AUS_fin['AUS_ratio_vax_pop']=pd_AUS_fin['AUS_ratio_vax_pop'].div(pop_AUS)"
   ]
  },
  {
   "cell_type": "code",
   "execution_count": 114,
   "metadata": {},
   "outputs": [
    {
     "name": "stderr",
     "output_type": "stream",
     "text": [
      "<ipython-input-114-ad2c2bf54b27>:39: SettingWithCopyWarning: \n",
      "A value is trying to be set on a copy of a slice from a DataFrame.\n",
      "Try using .loc[row_indexer,col_indexer] = value instead\n",
      "\n",
      "See the caveats in the documentation: https://pandas.pydata.org/pandas-docs/stable/user_guide/indexing.html#returning-a-view-versus-a-copy\n",
      "  pd_USA_fin['USA_ratio_vax_pop']=pd_USA_fin['USA_ratio_vax_pop'].div(pop_USA)\n"
     ]
    }
   ],
   "source": [
    "#Separating dictonary of USA from list and adding it to new list:\n",
    "country_USA=dict_from_list['United States']\n",
    "\n",
    "#Separating the list that contains the data we need from the USA dictonary:\n",
    "country_USA_data=country_USA['data']\n",
    "\n",
    "#Creating an empty dictonary to get data(date, vaccination):\n",
    "dictionary_of_USA_date_vax={}\n",
    "\n",
    "#Creating dictonary from the list:\n",
    "for item in country_USA_data:\n",
    "\tname = item['date']\n",
    "\tdictionary_of_USA_date_vax[name] = item\n",
    "\n",
    "#Creating an empty list:\n",
    "inter_list_USA=[]\n",
    "\n",
    "#Adding all the keys from data dictonary to an empty list:\n",
    "for key in dictionary_of_USA_date_vax:\n",
    "\tinter_list_USA.append(dictionary_of_USA_date_vax[key])\n",
    "\n",
    "\n",
    "#Converting list to dataframe:\n",
    "pd_USA_inter=pd.DataFrame(inter_list_USA)\n",
    "\n",
    "#Renaming the label total_vaccinations column to 'USA ratio vaccination:population' (data it holds while plotting)\n",
    "pd_USA_inter = pd_USA_inter.rename(columns={'total_vaccinations':'USA_ratio_vax_pop'})\n",
    "\n",
    "#Setting the index of the dataframe to date:\n",
    "pd_USA_inter.set_index('date')\n",
    "\n",
    "#Separating the data columns that we need for the plot (date, total_vaccinations):\n",
    "pd_USA_fin= pd_USA_inter.iloc[:, [0,1]]\n",
    "\n",
    "#Getting the total population of United Kingdom from the above requested json data:\n",
    "pop_USA=json_object_cases['USA']['population']\n",
    "\n",
    "#Dividing the vaccinated people by total population to get the ratio:\n",
    "pd_USA_fin['USA_ratio_vax_pop']=pd_USA_fin['USA_ratio_vax_pop'].div(pop_USA)"
   ]
  },
  {
   "cell_type": "code",
   "execution_count": 115,
   "metadata": {},
   "outputs": [
    {
     "name": "stdout",
     "output_type": "stream",
     "text": [
      "           date  ITA_ratio_vax_pop\n",
      "0    2020-12-27           0.000122\n",
      "1    2020-12-28           0.000147\n",
      "2    2020-12-29           0.000165\n",
      "3    2020-12-30           0.000246\n",
      "4    2020-12-31           0.000676\n",
      "..          ...                ...\n",
      "545  2022-06-25           2.289268\n",
      "546  2022-06-26           2.289287\n",
      "547  2022-06-27           2.289547\n",
      "548  2022-06-28           2.289858\n",
      "549  2022-06-29           2.290161\n",
      "\n",
      "[550 rows x 2 columns]\n"
     ]
    },
    {
     "name": "stderr",
     "output_type": "stream",
     "text": [
      "<ipython-input-115-5e3e79e46b60>:42: SettingWithCopyWarning: \n",
      "A value is trying to be set on a copy of a slice from a DataFrame.\n",
      "Try using .loc[row_indexer,col_indexer] = value instead\n",
      "\n",
      "See the caveats in the documentation: https://pandas.pydata.org/pandas-docs/stable/user_guide/indexing.html#returning-a-view-versus-a-copy\n",
      "  pd_ITA_fin['ITA_ratio_vax_pop']=pd_ITA_fin['ITA_ratio_vax_pop'].div(pop_ITA)\n"
     ]
    }
   ],
   "source": [
    "#Separating dictonary of Italy from list and adding it to new list:\n",
    "country_ITA=dict_from_list['Italy']\n",
    "\n",
    "#Separating the list that contains the data we need from the Spain dictonary:\n",
    "country_ITA_data=country_ITA['data']\n",
    "\n",
    "#Creating an empty dictonary:\n",
    "dictionary_of_ITA_date_vax={}\n",
    "\n",
    "#Creating dictonary from the list:\n",
    "for item in country_ITA_data:\n",
    "\tname = item['date']\n",
    "\tdictionary_of_ITA_date_vax[name] = item\n",
    "\n",
    "#Creating an empty list:\n",
    "inter_list_ITA=[]\n",
    "\n",
    "#Adding all the keys from data dictonary to an empty list:\n",
    "for key in dictionary_of_ITA_date_vax:\n",
    "\tinter_list_ITA.append(dictionary_of_ITA_date_vax[key])\n",
    "\n",
    "\n",
    "#Converting list to dataframe:\n",
    "pd_ITA_inter=pd.DataFrame(inter_list_ITA)\n",
    "\n",
    "#Renaming the label total_vaccinations column to 'Italy ratio vaccination:population' (data it holds while plotting)\n",
    "pd_ITA_inter = pd_ITA_inter.rename(columns={'total_vaccinations':'ITA_ratio_vax_pop'})\n",
    "\n",
    "#Setting the index of the dataframe to date:\n",
    "pd_ITA_inter.set_index('date')\n",
    "\n",
    "# #Converting the date in string format to datetime format:\n",
    "pd.to_datetime(pd_ITA_inter['date'],format='%Y-%m-%d')\n",
    "\n",
    "#Separating the data columns that we need for the plot (date, total_vaccinations):\n",
    "pd_ITA_fin= pd_ITA_inter.iloc[:, [0,1]]\n",
    "\n",
    "#Getting the total population of Italy:\n",
    "pop_ITA=json_object_cases['ITA']['population']\n",
    "\n",
    "#Dividing the vaccinated people by total population to get the ratio:\n",
    "pd_ITA_fin['ITA_ratio_vax_pop']=pd_ITA_fin['ITA_ratio_vax_pop'].div(pop_ITA)\n",
    "print(pd_ITA_fin)"
   ]
  },
  {
   "cell_type": "code",
   "execution_count": 116,
   "metadata": {},
   "outputs": [],
   "source": [
    "#Creating final dataframe for plot\n",
    "final_plot = pd.concat([pd_AUS_fin, pd_USA_fin, pd_ITA_fin],sort=False)\n",
    "\n",
    "#Converting date from string to datetime object type:\n",
    "final_plot['date']=pd.to_datetime(final_plot['date'])"
   ]
  },
  {
   "cell_type": "markdown",
   "metadata": {},
   "source": [
    "Plotting the graph:\n",
    "\n",
    "x axis is date\n",
    "\n",
    "y axis is ratio of vaccination/total population"
   ]
  },
  {
   "cell_type": "code",
   "execution_count": 117,
   "metadata": {},
   "outputs": [
    {
     "data": {
      "image/png": "[encoded data removed]",
      "text/plain": [
       "<Figure size 1080x360 with 1 Axes>"
      ]
     },
     "metadata": {
      "needs_background": "light"
     },
     "output_type": "display_data"
    }
   ],
   "source": [
    "#Defining size of the graph:\n",
    "plt.figure(figsize=(15,5))\n",
    "\n",
    "# Plot for Australia:\n",
    "plt.plot(final_plot[\"date\"],final_plot[\"AUS_ratio_vax_pop\"],label=\"AUS_Vax_Ratio\")\n",
    "\n",
    "#Plot for USA:\n",
    "plt.plot(final_plot[\"date\"],final_plot[\"USA_ratio_vax_pop\"],label=\"USA_Vax_Ratio\")\n",
    "\n",
    "#Plot for Italy:\n",
    "plt.plot(final_plot[\"date\"],final_plot[\"ITA_ratio_vax_pop\"],label=\"ITA_Vax_Ratio\")\n",
    "\n",
    "#Creating label for x-axis:\n",
    "plt.xlabel('Date')\n",
    "\n",
    "#Creating label for y-axis:\n",
    "plt.ylabel('Relative Vaccination(Total Vaccination/Total Population)')\n",
    "\n",
    "#Print the legend:\n",
    "plt.legend()\n",
    "\n",
    "#Display plot\n",
    "plt.show()"
   ]
  }
 ],
 "metadata": {
  "kernelspec": {
   "display_name": "Python 3.8.8 ('base')",
   "language": "python",
   "name": "python3"
  },
  "language_info": {
   "codemirror_mode": {
    "name": "ipython",
    "version": 3
   },
   "file_extension": ".py",
   "mimetype": "text/x-python",
   "name": "python",
   "nbconvert_exporter": "python",
   "pygments_lexer": "ipython3",
   "version": "3.8.8"
  },
  "orig_nbformat": 4,
  "vscode": {
   "interpreter": {
    "hash": "b09ec625f77bf4fd762565a912b97636504ad6ec901eb2d0f4cf5a7de23e1ee5"
   }
  }
 },
 "nbformat": 4,
 "nbformat_minor": 2
}
