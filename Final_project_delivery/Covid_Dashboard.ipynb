{
 "cells": [
  {
   "cell_type": "code",
   "execution_count": 1,
   "metadata": {},
   "outputs": [],
   "source": [
    "import pandas as pd\n",
    "import requests\n",
    "import json\n",
    "import datetime as datetime\n",
    "import matplotlib.pyplot as plt\n",
    "\n",
    "import dash\n",
    "from dash import dcc\n",
    "from dash import html\n",
    "from dash.dependencies import Input, Output"
   ]
  },
  {
   "cell_type": "code",
   "execution_count": 2,
   "metadata": {},
   "outputs": [],
   "source": [
    "pd.set_option('display.max_rows', 500)"
   ]
  },
  {
   "cell_type": "code",
   "execution_count": 3,
   "metadata": {},
   "outputs": [],
   "source": [
    "# Requesting the Covid Cases data from our world in data website as a json object.\n",
    "data_cases=requests.get('https://covid.ourworldindata.org/data/owid-covid-data.json')\n",
    "\n",
    "# Requesting the vaccination data from our world in data website as a json object:\n",
    "data_Vax=requests.get('https://github.com/owid/covid-19-data/raw/master/public/data/vaccinations/vaccinations.json')"
   ]
  },
  {
   "cell_type": "code",
   "execution_count": 4,
   "metadata": {},
   "outputs": [],
   "source": [
    "# load json object for the total number of COVID cases \n",
    "json_object_cases=json.loads(data_cases.content)\n",
    "\n",
    "#Dumping all data from json into a variable:\n",
    "json_object_vax=json.loads(data_Vax.content)"
   ]
  },
  {
   "cell_type": "code",
   "execution_count": 5,
   "metadata": {},
   "outputs": [],
   "source": [
    "country_list = [\n",
    "    'Italy',\n",
    "    'US',\n",
    "    'Spain',\n",
    "    'Germany',\n",
    "    'Korea, South',\n",
    "]"
   ]
  },
  {
   "cell_type": "markdown",
   "metadata": {},
   "source": [
    "# Relative Cases (Absolute Covid Cases/Population Size)\n"
   ]
  },
  {
   "cell_type": "code",
   "execution_count": 6,
   "metadata": {},
   "outputs": [],
   "source": [
    "# Obtain the country data for Austrlia from the json dictionary\n",
    "cases_country_data = json_object_cases['AUS']['data'][:]\n",
    "#create the list for storing the dates \n",
    "list_date=[]\n",
    "\n",
    "# Browsing over the entire country data\n",
    "for index in range(len(cases_country_data)):\n",
    "    # Obtaining the dates from the json dictionary\n",
    "    date_list = json_object_cases['AUS']['data'][index]\n",
    "    # append the dates to the date list\n",
    "    list_date.append(date_list['date'])\n",
    "\n",
    "# convert from string to date time format\n",
    "list_date=pd.to_datetime(pd.Series(list_date))\n",
    "\n",
    "# Create a dataframe for dates in Australia\n",
    "pd_dates_AUS = pd.DataFrame(list_date)\n",
    "# rename the column indices to date\n",
    "pd_dates_AUS = pd_dates_AUS.rename(columns={0:'date'}) \n",
    "# Get the date time format in %Y-%m-%d\n",
    "pd_dates_AUS['date'] = pd.to_datetime(pd_dates_AUS['date'],format='%Y-%m-%d')   \n",
    "\n",
    "# Get the total population for australia\n",
    "pop_AUS=json_object_cases['AUS']['population']\n",
    "# Create an empty to store the cases\n",
    "list_cases=[]\n",
    "for index in range(len(cases_country_data)):\n",
    "    # Entire the entire cases list for australia\n",
    "    cases_list = json_object_cases['AUS']['data'][index]\n",
    "    # append the cases and divide by the total population\n",
    "    list_cases.append((cases_list['total_cases']/pop_AUS))\n",
    "# Convert the cases into the a dataframe\n",
    "pd_cases_AUS = pd.DataFrame(list_cases)\n",
    "# Rename the column index to Australia cases  \n",
    "pd_cases_AUS = pd_cases_AUS.rename(columns={0:'AUS_cases'})\n",
    "\n",
    "#Concatenate the dates and cases for australia\n",
    "date_cases_AUS = pd.concat([pd_dates_AUS,pd_cases_AUS],axis=1)"
   ]
  },
  {
   "cell_type": "markdown",
   "metadata": {},
   "source": [
    "# Relative Vaccinations (Absolute Vaccination/Population Size)"
   ]
  },
  {
   "cell_type": "code",
   "execution_count": 9,
   "metadata": {},
   "outputs": [],
   "source": [
    "# create an empty dictionary\n",
    "dict_from_list = {}\n",
    "\n",
    "# for loop to convert list of dict\n",
    "# to dict of list\n",
    "for item in json_object_vax:\n",
    "\tname = item['country']\n",
    "\tdict_from_list[name] = item\n",
    "\n",
    "#Separating dictonary of USA from list and adding it to new list:\n",
    "country_USA=dict_from_list['United States']\n",
    "\n",
    "#Separating the list that contains the data we need from the USA dictonary:\n",
    "country_USA_data=country_USA['data']\n",
    "\n",
    "#Creating an empty dictonary to get data(date, vaccination):\n",
    "dictionary_of_USA_date_vax={}\n",
    "\n",
    "#Creating dictonary from the list:\n",
    "for item in country_USA_data:\n",
    "\tname = item['date']\n",
    "\tdictionary_of_USA_date_vax[name] = item\n",
    "\n",
    "#Creating an empty list:\n",
    "inter_list_USA=[]\n",
    "\n",
    "#Adding all the keys from data dictonary to an empty list:\n",
    "for key in dictionary_of_USA_date_vax:\n",
    "\tinter_list_USA.append(dictionary_of_USA_date_vax[key])\n",
    "\n",
    "\n",
    "#Converting list to dataframe:\n",
    "pd_USA_inter=pd.DataFrame(inter_list_USA)\n",
    "\n",
    "#Renaming the label total_vaccinations column to 'USA ratio vaccination:population' (data it holds while plotting)\n",
    "pd_USA_inter = pd_USA_inter.rename(columns={'total_vaccinations':'USA_ratio_vax_pop'})\n",
    "\n",
    "#Setting the index of the dataframe to date:\n",
    "pd_USA_inter.set_index('date')\n",
    "\n",
    "#Separating the data columns that we need for the plot (date, total_vaccinations):\n",
    "pd_USA_fin= pd_USA_inter.iloc[:, [0,1]]\n",
    "\n",
    "#Getting the total population of United Kingdom from the above requested json data:\n",
    "pop_USA=json_object_cases['USA']['population']\n",
    "\n",
    "#Dividing the vaccinated people by total population to get the ratio:\n",
    "fin_USA=pd_USA_fin.copy()\n",
    "fin_USA['USA_ratio_vax_pop']=fin_USA['USA_ratio_vax_pop'].div(pop_USA)"
   ]
  },
  {
   "cell_type": "markdown",
   "metadata": {},
   "source": [
    "# Dashboard Creation "
   ]
  },
  {
   "cell_type": "code",
   "execution_count": null,
   "metadata": {},
   "outputs": [],
   "source": [
    "app = dash.Dash()\n",
    "app.layout = html.Div([\n",
    "    html.Label('Multi-Select Country'),\n",
    "    dcc.Dropdown(id='country_drop_down',\n",
    "                 options=[{\n",
    "                     'label': 'Italy',\n",
    "                     'value': 'Italy'\n",
    "                 }, {\n",
    "                     'label': 'US',\n",
    "                     'value': 'US'\n",
    "                 }, {\n",
    "                     'label': 'Spain',\n",
    "                     'value': 'Spain'\n",
    "                 }, {\n",
    "                     'label': 'Germany',\n",
    "                     'value': 'Germany'\n",
    "                 }, {\n",
    "                     'label': 'Korea, South',\n",
    "                     'value': 'Korea, South'\n",
    "                 }],\n",
    "                 value=['US', 'Germany'],\n",
    "                 multi=True),\n",
    "    dcc.Graph(figure=fig, id='main_window_slope')\n",
    "])"
   ]
  },
  {
   "cell_type": "code",
   "execution_count": null,
   "metadata": {},
   "outputs": [],
   "source": [
    "\n",
    "@app.callback(Output('main_window_slope', 'figure'),\n",
    "              [Input('country_drop_down', 'value')])\n",
    "def update_figure(country_list):\n",
    "\n",
    "    traces = []\n",
    "    for each in country_list:\n",
    "        traces.append(\n",
    "            dict(x=df_plot.date,\n",
    "                 y=df_plot[each],\n",
    "                 mode='markers+lines',\n",
    "                 opacity=0.9,\n",
    "                 line_width=2,\n",
    "                 marker_size=1,\n",
    "                 name=each))\n",
    "\n",
    "    return {\n",
    "        'data':\n",
    "        traces,\n",
    "        'layout':\n",
    "        dict(\n",
    "            width=1280,\n",
    "            height=720,\n",
    "            xaxis_title='Time',\n",
    "            yaxis_title=\n",
    "            'Confirmed infected people (source johns hopkins case, log-scale)',\n",
    "            xaxis={\n",
    "                'tickangle': -45,\n",
    "                'nticks': 20,\n",
    "                'tickfont': dict(size=14, color='#7f7f7f'),\n",
    "            },\n",
    "            yaxis={\n",
    "                'type': 'log',\n",
    "                'range': '[1.1, 5.5]'\n",
    "            })\n",
    "    }"
   ]
  },
  {
   "cell_type": "code",
   "execution_count": null,
   "metadata": {},
   "outputs": [],
   "source": [
    "app.run_server(debug=True, use_reloader=False)"
   ]
  }
 ],
 "metadata": {
  "kernelspec": {
   "display_name": "Python 3.8.8 ('base')",
   "language": "python",
   "name": "python3"
  },
  "language_info": {
   "codemirror_mode": {
    "name": "ipython",
    "version": 3
   },
   "file_extension": ".py",
   "mimetype": "text/x-python",
   "name": "python",
   "nbconvert_exporter": "python",
   "pygments_lexer": "ipython3",
   "version": "3.8.8"
  },
  "orig_nbformat": 4,
  "vscode": {
   "interpreter": {
    "hash": "b09ec625f77bf4fd762565a912b97636504ad6ec901eb2d0f4cf5a7de23e1ee5"
   }
  }
 },
 "nbformat": 4,
 "nbformat_minor": 2
}
